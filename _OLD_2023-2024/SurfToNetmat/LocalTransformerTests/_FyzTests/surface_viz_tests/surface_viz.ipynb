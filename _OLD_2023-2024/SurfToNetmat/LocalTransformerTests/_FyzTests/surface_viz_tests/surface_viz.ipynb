{
 "cells": [
  {
   "cell_type": "code",
   "execution_count": 14,
   "metadata": {},
   "outputs": [],
   "source": [
    "import numpy as np\n",
    "import pandas as pd\n",
    "import matplotlib.pyplot as plt\n",
    "\n",
    "import nibabel as nib"
   ]
  },
  {
   "cell_type": "code",
   "execution_count": 37,
   "metadata": {},
   "outputs": [],
   "source": [
    "subj = 2\n",
    "dims = 15\n",
    "\n",
    "mat = np.zeros([subj, dims, 320, 153])\n",
    "\n",
    "for i in range(320):\n",
    "    mat[:, :, i, :] = i"
   ]
  },
  {
   "cell_type": "code",
   "execution_count": 70,
   "metadata": {},
   "outputs": [],
   "source": [
    "indices_mesh_triangles = pd.read_csv(\"triangle_indices_ico_6_sub_ico_2.csv\")\n",
    "mesh_vec = np.zeros([dims, 40962])\n",
    "\n",
    "data = mat[0]\n",
    "\n",
    "for i in range(dims):\n",
    "    for j in range(320):\n",
    "        indices_to_insert = indices_mesh_triangles[str(j)].to_numpy()\n",
    "        mesh_vec[i, indices_to_insert] = data[i, j, :]"
   ]
  },
  {
   "cell_type": "code",
   "execution_count": 82,
   "metadata": {},
   "outputs": [],
   "source": [
    "out = nib.GiftiImage()\n",
    "for i in range(dims):\n",
    "    out.add_gifti_data_array(nib.gifti.GiftiDataArray(mesh_vec[i, :].astype(\"float32\")))\n",
    "\n",
    "out.to_filename(\"test.shape.gii\")"
   ]
  },
  {
   "cell_type": "code",
   "execution_count": null,
   "metadata": {},
   "outputs": [],
   "source": []
  }
 ],
 "metadata": {
  "kernelspec": {
   "display_name": "neurotranslate",
   "language": "python",
   "name": "python3"
  },
  "language_info": {
   "codemirror_mode": {
    "name": "ipython",
    "version": 3
   },
   "file_extension": ".py",
   "mimetype": "text/x-python",
   "name": "python",
   "nbconvert_exporter": "python",
   "pygments_lexer": "ipython3",
   "version": "3.11.4"
  }
 },
 "nbformat": 4,
 "nbformat_minor": 2
}
